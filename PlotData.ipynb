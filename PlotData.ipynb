{
 "cells": [
  {
   "cell_type": "code",
   "execution_count": 21,
   "metadata": {},
   "outputs": [],
   "source": [
    "import numpy as np\n",
    "import matplotlib.pyplot as plt\n",
    "\n",
    "import matplotlib.animation as animation\n",
    "\n",
    "import pandas as pd\n",
    "%matplotlib qt"
   ]
  },
  {
   "cell_type": "code",
   "execution_count": 5,
   "metadata": {},
   "outputs": [],
   "source": [
    "df = pd.read_csv('csv/Voltages.csv',index_col=False)\n",
    "df = df.set_index('time')\n",
    "matrix_shape = (200,200)\n",
    "\n",
    "M = np.reshape(np.array(df.iloc[-1]),matrix_shape)"
   ]
  },
  {
   "cell_type": "code",
   "execution_count": null,
   "metadata": {},
   "outputs": [],
   "source": [
    "df.index"
   ]
  },
  {
   "cell_type": "code",
   "execution_count": 6,
   "metadata": {},
   "outputs": [
    {
     "ename": "",
     "evalue": "",
     "output_type": "error",
     "traceback": [
      "\u001b[1;31mThe Kernel crashed while executing code in the current cell or a previous cell. \n",
      "\u001b[1;31mPlease review the code in the cell(s) to identify a possible cause of the failure. \n",
      "\u001b[1;31mClick <a href='https://aka.ms/vscodeJupyterKernelCrash'>here</a> for more info. \n",
      "\u001b[1;31mView Jupyter <a href='command:jupyter.viewOutput'>log</a> for further details."
     ]
    }
   ],
   "source": [
    "\n",
    "\n",
    "\n",
    "\n",
    "\n",
    "\n",
    "\n",
    "\n",
    "# First set up the figure, the axis, and the plot element we want to animate\n",
    "fig = plt.figure( figsize=matrix_shape )\n",
    "\n",
    "im = plt.imshow(np.reshape(np.array(df.iloc[-1]),matrix_shape), interpolation='none', aspect='auto', vmin=-90, vmax=30)\n",
    "title = plt.title(f\"Simulation T= {0} ms\")\n",
    "\n",
    "# def animate_func(i):\n",
    "\n",
    "#     im.set_array(np.reshape(np.array(df.iloc[i]),matrix_shape))\n",
    "#     title.set_text(f\"Simulation T= {i*5} ms\")\n",
    "#     return [im]\n",
    "\n",
    "# anim = animation.FuncAnimation(\n",
    "#                                fig, \n",
    "#                                animate_func, \n",
    "#                                frames = nSeconds * fps,\n",
    "#                                interval = 1000 / fps, # in ms\n",
    "#                                )\n",
    "\n",
    "# # anim.save('test_anim.mp4', fps=fps, extra_args=['-vcodec', 'libx264'])\n",
    "\n",
    "# print('Done!')\n",
    "\n",
    "plt.show()  # Not required, it seems!"
   ]
  },
  {
   "cell_type": "code",
   "execution_count": 6,
   "metadata": {},
   "outputs": [
    {
     "data": {
      "image/png": "[encoded data removed]",
      "text/plain": [
       "<Figure size 640x480 with 2 Axes>"
      ]
     },
     "metadata": {},
     "output_type": "display_data"
    }
   ],
   "source": [
    "M = np.reshape(np.array(df.iloc[375]),matrix_shape)\n",
    "extend = [0,matrix_shape[0]*0.02,0,matrix_shape[1]*0.02]\n",
    "im = plt.imshow(M, interpolation='none', aspect='auto', vmin=-90, vmax=30,extent=extend)\n",
    "\n",
    "plt.colorbar()\n",
    "# plt.title(\"Membrane potential\")\n",
    "plt.xticks([])\n",
    "plt.yticks([])\n",
    "# plt.xlabel(\"cm\")\n",
    "# plt.ylabel(\"cm\")\n",
    "# plt.show() \n",
    "\n",
    "plt.savefig(\"Spiral.png\")\n",
    "\n"
   ]
  },
  {
   "cell_type": "code",
   "execution_count": 23,
   "metadata": {},
   "outputs": [],
   "source": [
    "from matplotlib import cm\n",
    "fig, ax = plt.subplots(subplot_kw={\"projection\":\"3d\"})\n",
    "\n",
    "X = range(0,200)\n",
    "Y = range(0,200)\n",
    "X,Y = np.meshgrid(X,Y)\n",
    "\n",
    "surf = ax.plot_surface(X,Y,M.transpose(),cmap = cm.autumn , linewidth=0,antialiased=False)\n",
    "ax.set_zlim(-90,30)\n",
    "ax.view_init(elev=60,azim=110)\n",
    "\n",
    "plt.show()"
   ]
  },
  {
   "cell_type": "code",
   "execution_count": 24,
   "metadata": {},
   "outputs": [],
   "source": [
    "ax.clear()"
   ]
  },
  {
   "cell_type": "code",
   "execution_count": 25,
   "metadata": {},
   "outputs": [
    {
     "name": "stdout",
     "output_type": "stream",
     "text": [
      "Done!\n"
     ]
    }
   ],
   "source": [
    "\n",
    "\n",
    "fps = 100\n",
    "nSeconds = 5\n",
    "\n",
    "matrix_shape = (200,200)\n",
    "dx = 0.01\n",
    "\n",
    "\n",
    "# First set up the figure, the axis, and the plot element we want to animate\n",
    "fig, ax = plt.subplots(subplot_kw={\"projection\":\"3d\"})\n",
    "\n",
    "X = range(0,200)\n",
    "Y = range(0,200)\n",
    "X,Y = np.meshgrid(X,Y)\n",
    "M = np.reshape(np.array(df.iloc[0]),matrix_shape)\n",
    "\n",
    "surf = ax.plot_surface(X,Y,M.transpose(),cmap = cm.autumn , linewidth=0,antialiased=False)\n",
    "ax.set_zlim(-90,30)\n",
    "ax.view_init(elev=60,azim=110)\n",
    "\n",
    "# plt.xticks()\n",
    "\n",
    "def animate_func(i):\n",
    "    M = np.reshape(np.array(df.iloc[i]),matrix_shape)\n",
    "    ax.clear()\n",
    "    surf = ax.plot_surface(X,Y,M.transpose(),cmap = cm.autumn , linewidth=0,antialiased=False)\n",
    "    ax.set_zlim(-90,30)\n",
    "    return surf,\n",
    "\n",
    "anim = animation.FuncAnimation(\n",
    "                               fig, \n",
    "                               animate_func, \n",
    "                               frames = nSeconds * fps,\n",
    "                               interval = 1000 / fps, # in ms\n",
    "                               )\n",
    "\n",
    "# anim.save('test_anim.mp4', fps=fps, extra_args=['-vcodec', 'libx264'])\n",
    "\n",
    "print('Done!')\n",
    "\n",
    "plt.show()  # Not required, it seems!"
   ]
  }
 ],
 "metadata": {
  "kernelspec": {
   "display_name": "base",
   "language": "python",
   "name": "python3"
  },
  "language_info": {
   "codemirror_mode": {
    "name": "ipython",
    "version": 3
   },
   "file_extension": ".py",
   "mimetype": "text/x-python",
   "name": "python",
   "nbconvert_exporter": "python",
   "pygments_lexer": "ipython3",
   "version": "3.11.5"
  }
 },
 "nbformat": 4,
 "nbformat_minor": 2
}
