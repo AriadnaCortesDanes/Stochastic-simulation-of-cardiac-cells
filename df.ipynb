{
 "cells": [
  {
   "cell_type": "code",
   "execution_count": 1,
   "metadata": {},
   "outputs": [
    {
     "data": {
      "text/html": [
       "<div>\n",
       "<style scoped>\n",
       "    .dataframe tbody tr th:only-of-type {\n",
       "        vertical-align: middle;\n",
       "    }\n",
       "\n",
       "    .dataframe tbody tr th {\n",
       "        vertical-align: top;\n",
       "    }\n",
       "\n",
       "    .dataframe thead th {\n",
       "        text-align: right;\n",
       "    }\n",
       "</style>\n",
       "<table border=\"1\" class=\"dataframe\">\n",
       "  <thead>\n",
       "    <tr style=\"text-align: right;\">\n",
       "      <th></th>\n",
       "      <th>time_0</th>\n",
       "      <th>Volt_100</th>\n",
       "      <th>Volt_200</th>\n",
       "    </tr>\n",
       "  </thead>\n",
       "  <tbody>\n",
       "    <tr>\n",
       "      <th>0</th>\n",
       "      <td>0</td>\n",
       "      <td>-86.2003</td>\n",
       "      <td>-86.2003</td>\n",
       "    </tr>\n",
       "    <tr>\n",
       "      <th>1</th>\n",
       "      <td>5</td>\n",
       "      <td>-86.2260</td>\n",
       "      <td>-86.2260</td>\n",
       "    </tr>\n",
       "    <tr>\n",
       "      <th>2</th>\n",
       "      <td>10</td>\n",
       "      <td>-86.1902</td>\n",
       "      <td>-86.1902</td>\n",
       "    </tr>\n",
       "    <tr>\n",
       "      <th>3</th>\n",
       "      <td>15</td>\n",
       "      <td>-86.1362</td>\n",
       "      <td>-86.1362</td>\n",
       "    </tr>\n",
       "    <tr>\n",
       "      <th>4</th>\n",
       "      <td>20</td>\n",
       "      <td>-86.0916</td>\n",
       "      <td>-86.0916</td>\n",
       "    </tr>\n",
       "    <tr>\n",
       "      <th>...</th>\n",
       "      <td>...</td>\n",
       "      <td>...</td>\n",
       "      <td>...</td>\n",
       "    </tr>\n",
       "    <tr>\n",
       "      <th>95</th>\n",
       "      <td>475</td>\n",
       "      <td>-21.0186</td>\n",
       "      <td>-39.6021</td>\n",
       "    </tr>\n",
       "    <tr>\n",
       "      <th>96</th>\n",
       "      <td>480</td>\n",
       "      <td>-25.5659</td>\n",
       "      <td>16.0519</td>\n",
       "    </tr>\n",
       "    <tr>\n",
       "      <th>97</th>\n",
       "      <td>485</td>\n",
       "      <td>-30.7880</td>\n",
       "      <td>13.7399</td>\n",
       "    </tr>\n",
       "    <tr>\n",
       "      <th>98</th>\n",
       "      <td>490</td>\n",
       "      <td>-36.7949</td>\n",
       "      <td>15.0191</td>\n",
       "    </tr>\n",
       "    <tr>\n",
       "      <th>99</th>\n",
       "      <td>495</td>\n",
       "      <td>-43.4773</td>\n",
       "      <td>17.0791</td>\n",
       "    </tr>\n",
       "  </tbody>\n",
       "</table>\n",
       "<p>100 rows × 3 columns</p>\n",
       "</div>"
      ],
      "text/plain": [
       "    time_0  Volt_100  Volt_200\n",
       "0        0  -86.2003  -86.2003\n",
       "1        5  -86.2260  -86.2260\n",
       "2       10  -86.1902  -86.1902\n",
       "3       15  -86.1362  -86.1362\n",
       "4       20  -86.0916  -86.0916\n",
       "..     ...       ...       ...\n",
       "95     475  -21.0186  -39.6021\n",
       "96     480  -25.5659   16.0519\n",
       "97     485  -30.7880   13.7399\n",
       "98     490  -36.7949   15.0191\n",
       "99     495  -43.4773   17.0791\n",
       "\n",
       "[100 rows x 3 columns]"
      ]
     },
     "execution_count": 1,
     "metadata": {},
     "output_type": "execute_result"
    }
   ],
   "source": [
    "import csv\n",
    "import pandas as pd\n",
    "df=pd.read_csv(\"csv/PointBackupData_mod_2.csv\",usecols=['time_0','Volt_100','Volt_200'],index_col=False)\n",
    "df.head(100)"
   ]
  },
  {
   "cell_type": "code",
   "execution_count": 2,
   "metadata": {},
   "outputs": [
    {
     "data": {
      "text/plain": [
       "time_0      200\n",
       "Volt_100     57\n",
       "Volt_200    104\n",
       "dtype: int64"
      ]
     },
     "execution_count": 2,
     "metadata": {},
     "output_type": "execute_result"
    }
   ],
   "source": [
    "df.idxmax()"
   ]
  },
  {
   "cell_type": "code",
   "execution_count": 3,
   "metadata": {},
   "outputs": [
    {
     "data": {
      "text/plain": [
       "time_0      285.0000\n",
       "Volt_100     21.3444\n",
       "Volt_200    -86.0077\n",
       "Name: 57, dtype: float64"
      ]
     },
     "execution_count": 3,
     "metadata": {},
     "output_type": "execute_result"
    }
   ],
   "source": [
    "df.loc[57]"
   ]
  },
  {
   "cell_type": "code",
   "execution_count": 4,
   "metadata": {},
   "outputs": [
    {
     "data": {
      "text/plain": [
       "time_0      520.0000\n",
       "Volt_100    -69.5031\n",
       "Volt_200     21.3478\n",
       "Name: 104, dtype: float64"
      ]
     },
     "execution_count": 4,
     "metadata": {},
     "output_type": "execute_result"
    }
   ],
   "source": [
    "df.loc[104]"
   ]
  }
 ],
 "metadata": {
  "kernelspec": {
   "display_name": "Python 3",
   "language": "python",
   "name": "python3"
  },
  "language_info": {
   "codemirror_mode": {
    "name": "ipython",
    "version": 3
   },
   "file_extension": ".py",
   "mimetype": "text/x-python",
   "name": "python",
   "nbconvert_exporter": "python",
   "pygments_lexer": "ipython3",
   "version": "3.8.6"
  }
 },
 "nbformat": 4,
 "nbformat_minor": 2
}
